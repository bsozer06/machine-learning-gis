{
 "cells": [
  {
   "cell_type": "markdown",
   "id": "1af4af95",
   "metadata": {},
   "source": [
    "# What is GDAL ?"
   ]
  },
  {
   "cell_type": "code",
   "execution_count": 2,
   "id": "2cae3eac",
   "metadata": {},
   "outputs": [
    {
     "name": "stdout",
     "output_type": "stream",
     "text": [
      "GDAL's version is: 3.4.3\n",
      "<module 'osgeo.gdal' from 'C:\\\\Users\\\\furka\\\\myenvBs\\\\Lib\\\\site-packages\\\\osgeo\\\\gdal.py'>\n",
      "1\n"
     ]
    }
   ],
   "source": [
    "from __future__ import print_function\n",
    "\n",
    "# Import the \"gdal\" submodule from within the \"osgeo\" module\n",
    "from osgeo import gdal\n",
    "\n",
    "# We can check which version we're running by printing the \"__version__\" variable\n",
    "print(\"GDAL's version is: \" + gdal.__version__)\n",
    "print(gdal)\n",
    "# Works\n",
    "print(gdal.GDT_Byte)"
   ]
  },
  {
   "cell_type": "markdown",
   "id": "a9a13ae8",
   "metadata": {},
   "source": [
    "## Get Info from Image Data"
   ]
  },
  {
   "cell_type": "code",
   "execution_count": 4,
   "id": "0787b50d",
   "metadata": {},
   "outputs": [
    {
     "name": "stdout",
     "output_type": "stream",
     "text": [
      "<osgeo.gdal.Dataset; proxy of <Swig Object of type 'GDALDatasetShadow *' at 0x000001954CBAC930> >\n"
     ]
    }
   ],
   "source": [
    "data = gdal.Open('./example/LE70220491999322EDC01_stack.gtif', gdal.GA_ReadOnly)\n",
    "print(data)"
   ]
  },
  {
   "cell_type": "code",
   "execution_count": 12,
   "id": "5b97e59d",
   "metadata": {},
   "outputs": [
    {
     "name": "stdout",
     "output_type": "stream",
     "text": [
      "Number of bands in image: 8\n",
      "\n",
      "Image size is: 250 rows x 250 columns\n",
      "\n",
      "Raster description: ./example/LE70220491999322EDC01_stack.gtif\n",
      "Raster metadata:\n",
      "{'AREA_OR_POINT': 'Area', 'Band_1': 'band 1 reflectance', 'Band_2': 'band 2 reflectance', 'Band_3': 'band 3 reflectance', 'Band_4': 'band 4 reflectance', 'Band_5': 'band 5 reflectance', 'Band_6': 'band 7 reflectance', 'Band_7': 'band 6 temperature', 'Band_8': 'Band 8'}\n",
      "\n",
      "\n",
      "Raster driver: GTiff\n",
      "\n",
      "Image projection:\n",
      "PROJCS[\"WGS 84 / UTM zone 15N\",GEOGCS[\"WGS 84\",DATUM[\"WGS_1984\",SPHEROID[\"WGS 84\",6378137,298.257223563,AUTHORITY[\"EPSG\",\"7030\"]],AUTHORITY[\"EPSG\",\"6326\"]],PRIMEM[\"Greenwich\",0,AUTHORITY[\"EPSG\",\"8901\"]],UNIT[\"degree\",0.0174532925199433,AUTHORITY[\"EPSG\",\"9122\"]],AUTHORITY[\"EPSG\",\"4326\"]],PROJECTION[\"Transverse_Mercator\"],PARAMETER[\"latitude_of_origin\",0],PARAMETER[\"central_meridian\",-93],PARAMETER[\"scale_factor\",0.9996],PARAMETER[\"false_easting\",500000],PARAMETER[\"false_northing\",0],UNIT[\"metre\",1,AUTHORITY[\"EPSG\",\"9001\"]],AXIS[\"Easting\",EAST],AXIS[\"Northing\",NORTH],AUTHORITY[\"EPSG\",\"32615\"]]\n",
      "\n",
      "Image geo-transform: (462405.0, 30.0, 0.0, 1741815.0, 0.0, -30.0)\n",
      "\n"
     ]
    }
   ],
   "source": [
    "num_bands = data.RasterCount\n",
    "print('Number of bands in image: {n}\\n'.format(n=num_bands))\n",
    "\n",
    "rows = data.RasterYSize\n",
    "cols = data.RasterXSize\n",
    "print('Image size is: {r} rows x {c} columns\\n'.format(r=rows, c=cols))\n",
    "\n",
    "# Does the raster have a description or metadata?\n",
    "desc = data.GetDescription()\n",
    "metadata = data.GetMetadata()\n",
    "\n",
    "print('Raster description: {desc}'.format(desc=desc))\n",
    "print('Raster metadata:')\n",
    "print(metadata)\n",
    "print('\\n')\n",
    "\n",
    "# What driver was used to open the raster?\n",
    "driver = data.GetDriver()\n",
    "print('Raster driver: {d}\\n'.format(d=driver.ShortName))\n",
    "\n",
    "# What is the raster's projection?\n",
    "proj = data.GetProjection()\n",
    "print('Image projection:')\n",
    "print(proj + '\\n')\n",
    "\n",
    "# What is the raster's \"geo-transform\"\n",
    "gt = data.GetGeoTransform()\n",
    "print('Image geo-transform: {gt}\\n'.format(gt=gt))"
   ]
  },
  {
   "cell_type": "code",
   "execution_count": 13,
   "id": "7423db68",
   "metadata": {},
   "outputs": [
    {
     "name": "stdout",
     "output_type": "stream",
     "text": [
      "<osgeo.gdal.Band; proxy of <Swig Object of type 'GDALRasterBandShadow *' at 0x000001954D3EEB80> >\n"
     ]
    }
   ],
   "source": [
    "# Open the blue band in our image\n",
    "blue = data.GetRasterBand(1)\n",
    "\n",
    "print(blue)"
   ]
  },
  {
   "cell_type": "code",
   "execution_count": 18,
   "id": "42ac1496",
   "metadata": {},
   "outputs": [
    {
     "name": "stdout",
     "output_type": "stream",
     "text": [
      "Band datatype: 3\n",
      "Band datatype: Int16\n",
      "Band datatype size: 16 bytes\n",
      "\n",
      "Band range: 1810.0 - 198.0\n",
      "Band mean, stddev: 439.015984, 139.7168287663\n",
      "\n"
     ]
    }
   ],
   "source": [
    "# What is the band's datatype?\n",
    "datatype = blue.DataType\n",
    "print('Band datatype: {dt}'.format(dt=blue.DataType))\n",
    "\n",
    "# If you recall from our discussion of enumerated types, this \"3\" we printed has a more useful definition for us to use\n",
    "datatype_name = gdal.GetDataTypeName(blue.DataType)\n",
    "print('Band datatype: {dt}'.format(dt=datatype_name))\n",
    "\n",
    "# We can also ask how much space does this datatype take up\n",
    "bytes = gdal.GetDataTypeSize(blue.DataType)\n",
    "print('Band datatype size: {b} bytes\\n'.format(b=bytes))\n",
    "\n",
    "# How about some band statistics?\n",
    "band_max, band_min, band_mean, band_stddev = blue.GetStatistics(0, 1)\n",
    "print('Band range: {minimum} - {maximum}'.format(maximum=band_max, minimum=band_min))\n",
    "print('Band mean, stddev: {m}, {s}\\n'.format(m=band_mean, s=band_stddev))"
   ]
  },
  {
   "cell_type": "markdown",
   "id": "7784e992",
   "metadata": {},
   "source": [
    "## Using Numpy"
   ]
  },
  {
   "cell_type": "code",
   "execution_count": 19,
   "id": "791b7a5c",
   "metadata": {},
   "outputs": [
    {
     "name": "stdout",
     "output_type": "stream",
     "text": [
      "1.24.2\n",
      "1.24.2\n"
     ]
    }
   ],
   "source": [
    "# No alias\n",
    "import numpy\n",
    "print(numpy.__version__)\n",
    "\n",
    "# Alias or rename to \"np\" -- a very common practice\n",
    "import numpy as np\n",
    "print(np.__version__)"
   ]
  },
  {
   "cell_type": "markdown",
   "id": "1178a24f",
   "metadata": {},
   "source": [
    "### With GDAL"
   ]
  },
  {
   "cell_type": "code",
   "execution_count": 20,
   "id": "49e2c46c",
   "metadata": {},
   "outputs": [
    {
     "name": "stdout",
     "output_type": "stream",
     "text": [
      "Help on method ReadAsArray in module osgeo.gdal:\n",
      "\n",
      "ReadAsArray(xoff=0, yoff=0, win_xsize=None, win_ysize=None, buf_xsize=None, buf_ysize=None, buf_type=None, buf_obj=None, resample_alg=0, callback=None, callback_data=None) method of osgeo.gdal.Band instance\n",
      "    Reading a chunk of a GDAL band into a numpy array. The optional (buf_xsize,buf_ysize,buf_type)\n",
      "    parameters should generally not be specified if buf_obj is specified. The array is returned\n",
      "\n"
     ]
    }
   ],
   "source": [
    "help(blue.ReadAsArray)"
   ]
  },
  {
   "cell_type": "code",
   "execution_count": 23,
   "id": "5cbfb909",
   "metadata": {},
   "outputs": [
    {
     "name": "stdout",
     "output_type": "stream",
     "text": [
      "[[569 526 569 ... 311 289 311]\n",
      " [568 589 568 ... 267 332 332]\n",
      " [546 525 589 ... 311 311 311]\n",
      " ...\n",
      " [499 543 478 ... 306 349 372]\n",
      " [520 520 543 ... 328 372 393]\n",
      " [543 564 543 ... 393 414 436]]\n",
      "\n",
      "Blue band mean is: 439.015984\n",
      "Size is: (250, 250)\n"
     ]
    }
   ],
   "source": [
    "blue_data = blue.ReadAsArray()\n",
    "\n",
    "print(blue_data)\n",
    "print()\n",
    "print('Blue band mean is: {m}'.format(m = blue_data.mean()))\n",
    "print('Size is: {sz}'.format(sz = blue_data.shape))"
   ]
  },
  {
   "cell_type": "markdown",
   "id": "885ee2dc",
   "metadata": {},
   "source": [
    "### With Numpy"
   ]
  },
  {
   "cell_type": "code",
   "execution_count": 24,
   "id": "5800a402",
   "metadata": {},
   "outputs": [],
   "source": [
    "# Initialize a 3d array -- use the size properties of our image for portability!\n",
    "image = np.zeros((data.RasterYSize, data.RasterXSize, data.RasterCount))\n"
   ]
  },
  {
   "cell_type": "code",
   "execution_count": 33,
   "id": "cf82aad6",
   "metadata": {},
   "outputs": [
    {
     "name": "stdout",
     "output_type": "stream",
     "text": [
      "float64\n"
     ]
    }
   ],
   "source": [
    "# Loop over all bands in dataset\n",
    "for b in range(data.RasterCount):\n",
    "    # GDAL index is on 1, but Python is on 0 -- so we add 1 for our GDAL calls\n",
    "    image[:, :, b] = data.GetRasterBand(b + 1).ReadAsArray()\n",
    "    \n",
    "#print(image)\n",
    "print(image.dtype)\n"
   ]
  },
  {
   "cell_type": "markdown",
   "id": "30ab452a",
   "metadata": {},
   "source": [
    "### Another Option To Convert From Gdal to Numpy "
   ]
  },
  {
   "cell_type": "code",
   "execution_count": 34,
   "id": "efba4864",
   "metadata": {},
   "outputs": [
    {
     "data": {
      "text/plain": [
       "3"
      ]
     },
     "execution_count": 34,
     "metadata": {},
     "output_type": "execute_result"
    }
   ],
   "source": [
    "data.GetRasterBand(1).DataType"
   ]
  },
  {
   "cell_type": "code",
   "execution_count": 35,
   "id": "7d914c82",
   "metadata": {},
   "outputs": [
    {
     "name": "stdout",
     "output_type": "stream",
     "text": [
      "Compare datatypes: \n",
      "    when unspecified: float64\n",
      "    when specified: int16\n"
     ]
    }
   ],
   "source": [
    "from osgeo import gdal_array\n",
    "\n",
    "# DataType is a property of the individual raster bands\n",
    "image_datatype = data.GetRasterBand(1).DataType\n",
    "\n",
    "# Allocate our array, but in a more efficient way\n",
    "image_correct = np.zeros(\n",
    "    (data.RasterYSize, data.RasterXSize, data.RasterCount),\n",
    "    dtype = gdal_array.GDALTypeCodeToNumericTypeCode(image_datatype)\n",
    ") \n",
    "\n",
    "# Loop over all bands in dataset\n",
    "for b in range(data.RasterCount):\n",
    "    # Remember, GDAL index is on 1, but Python is on 0 -- so we add 1 for our GDAL calls\n",
    "    band = data.GetRasterBand(b + 1)\n",
    "    \n",
    "    # Read in the band's data into the third dimension of our array\n",
    "    image_correct[:, :, b] = band.ReadAsArray()\n",
    "\n",
    "print(\"Compare datatypes: \")\n",
    "print(\"    when unspecified: {dt}\".format(dt=image.dtype))\n",
    "print(\"    when specified: {dt}\".format(dt=image_correct.dtype))"
   ]
  },
  {
   "cell_type": "code",
   "execution_count": 36,
   "id": "4f5f9639",
   "metadata": {},
   "outputs": [],
   "source": [
    "dataset = None\n",
    "\n",
    "image = None\n",
    "image_correct = None"
   ]
  },
  {
   "cell_type": "code",
   "execution_count": null,
   "id": "c91f0bd8",
   "metadata": {},
   "outputs": [],
   "source": []
  }
 ],
 "metadata": {
  "kernelspec": {
   "display_name": "myenvBs",
   "language": "python",
   "name": "myenvbs"
  },
  "language_info": {
   "codemirror_mode": {
    "name": "ipython",
    "version": 3
   },
   "file_extension": ".py",
   "mimetype": "text/x-python",
   "name": "python",
   "nbconvert_exporter": "python",
   "pygments_lexer": "ipython3",
   "version": "3.11.2"
  }
 },
 "nbformat": 4,
 "nbformat_minor": 5
}
