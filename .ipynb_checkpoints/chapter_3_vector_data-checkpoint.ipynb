{
 "cells": [
  {
   "cell_type": "markdown",
   "id": "96f1279e",
   "metadata": {},
   "source": [
    "# Importing and Using Vector Data"
   ]
  },
  {
   "cell_type": "code",
   "execution_count": 1,
   "id": "6344202e",
   "metadata": {},
   "outputs": [],
   "source": [
    "# Import OGR - \n",
    "from osgeo import ogr"
   ]
  },
  {
   "cell_type": "code",
   "execution_count": 3,
   "id": "4bea25a4",
   "metadata": {},
   "outputs": [],
   "source": [
    "# Open the dataset from the file\n",
    "dataset = ogr.Open('./example/training_data.shp')\n",
    "\n",
    "# Make sure the dataset exists -- it would be None if we couldn't open it\n",
    "if not dataset:\n",
    "    print('Error: could not open dataset')"
   ]
  },
  {
   "cell_type": "code",
   "execution_count": 15,
   "id": "aaafe69e",
   "metadata": {},
   "outputs": [
    {
     "name": "stdout",
     "output_type": "stream",
     "text": [
      "Dataset driver is: ESRI Shapefile\n",
      "\n",
      "The shapefile has 1 layer(s)\n",
      "\n",
      "The layer is named: training_data\n",
      "\n",
      "The layer's geometry is: Polygon\n",
      "\n",
      "Layer projection is: +proj=utm +zone=15 +datum=WGS84 +units=m +no_defs\n",
      "\n",
      "Layer has 30 features\n",
      "\n",
      "Layer has 2 fields\n",
      "Their names are: \n",
      "\tid - Integer64\n",
      "\tclass - String\n"
     ]
    }
   ],
   "source": [
    "### Let's get the driver from this file\n",
    "driver = dataset.GetDriver()\n",
    "print('Dataset driver is: {n}\\n'.format(n = driver.name))\n",
    "\n",
    "### How many layers are contained in this Shapefile?\n",
    "layer_count = dataset.GetLayerCount()\n",
    "print('The shapefile has {n} layer(s)\\n'.format(n = layer_count))\n",
    "\n",
    "### The name of the 1 layer\n",
    "layer = dataset.GetLayerByIndex(0)\n",
    "print('The layer is named: {n}\\n'.format(n = layer.GetName()))\n",
    "\n",
    "### The layer's geometry\n",
    "geometry = layer.GetGeomType()\n",
    "geometry_name = ogr.GeometryTypeToName(geometry)\n",
    "print(\"The layer's geometry is: {geom}\\n\".format(geom = geometry_name))\n",
    "\n",
    "### Get the spatial reference\n",
    "spatial_ref = layer.GetSpatialRef()\n",
    "proj4 = spatial_ref.ExportToProj4()\n",
    "print('Layer projection is: {proj4}\\n'.format(proj4 = proj4))\n",
    "\n",
    "### The number of features are in the laye\n",
    "feature_count = layer.GetFeatureCount()\n",
    "print('Layer has {n} features\\n'.format(n = feature_count))\n",
    "\n",
    "### The number of fields are in the shapefile, and their names\n",
    "defn = layer.GetLayerDefn()\n",
    "field_count = defn.GetFieldCount()\n",
    "print('Layer has {n} fields'.format(n=field_count))\n",
    "\n",
    "## their names\n",
    "print('Their names are: ')\n",
    "for i in range(field_count):\n",
    "    field_defn = defn.GetFieldDefn(i)\n",
    "    print('\\t{name} - {datatype}'.format(name=field_defn.GetName(), datatype=field_defn.GetTypeName()))"
   ]
  },
  {
   "cell_type": "markdown",
   "id": "3c81c6d0",
   "metadata": {},
   "source": [
    "### Class enum values\n",
    "* 1 - forest\n",
    "* 2 - water\n",
    "* 3 - herbaceous\n",
    "* 4 - barren\n",
    "* 5 - urban"
   ]
  },
  {
   "cell_type": "markdown",
   "id": "d152a60d",
   "metadata": {},
   "source": [
    "## Gdal Rasterization"
   ]
  },
  {
   "cell_type": "code",
   "execution_count": 18,
   "id": "9c3bf39e",
   "metadata": {},
   "outputs": [],
   "source": [
    "# Import GDAL\n",
    "from osgeo import gdal"
   ]
  },
  {
   "cell_type": "code",
   "execution_count": 19,
   "id": "0d62341d",
   "metadata": {},
   "outputs": [],
   "source": [
    "# First we will open our raster image, to understand how we will want to rasterize our vector\n",
    "raster_ds = gdal.Open('./example/LE70220491999322EDC01_stack.gtif', gdal.GA_ReadOnly)"
   ]
  },
  {
   "cell_type": "code",
   "execution_count": 21,
   "id": "534ee525",
   "metadata": {},
   "outputs": [],
   "source": [
    "# Fetch number of rows and columns\n",
    "ncol = raster_ds.RasterXSize\n",
    "nrow = raster_ds.RasterYSize\n",
    "\n",
    "# Fetch projection and extent\n",
    "proj = raster_ds.GetProjectionRef()\n",
    "ext = raster_ds.GetGeoTransform()"
   ]
  },
  {
   "cell_type": "code",
   "execution_count": 22,
   "id": "435b9ef1",
   "metadata": {},
   "outputs": [],
   "source": [
    "raster_ds = None\n"
   ]
  },
  {
   "cell_type": "code",
   "execution_count": 23,
   "id": "e434e96e",
   "metadata": {},
   "outputs": [
    {
     "data": {
      "text/plain": [
       "0"
      ]
     },
     "execution_count": 23,
     "metadata": {},
     "output_type": "execute_result"
    }
   ],
   "source": [
    "# Create the raster dataset\n",
    "memory_driver = gdal.GetDriverByName('GTiff')\n",
    "out_raster_ds = memory_driver.Create('./example/training_data.gtif', ncol, nrow, 1, gdal.GDT_Byte)\n",
    "\n",
    "# Set the ROI image's projection and extent to our input raster's projection and extent\n",
    "out_raster_ds.SetProjection(proj)\n",
    "out_raster_ds.SetGeoTransform(ext)\n",
    "\n",
    "# Fill our output band with the 0 blank, no class label, value\n",
    "b = out_raster_ds.GetRasterBand(1)\n",
    "b.Fill(0)"
   ]
  },
  {
   "cell_type": "code",
   "execution_count": 24,
   "id": "b284b4e4",
   "metadata": {},
   "outputs": [
    {
     "name": "stdout",
     "output_type": "stream",
     "text": [
      "Success\n"
     ]
    }
   ],
   "source": [
    "# Rasterize the shapefile layer to our new dataset\n",
    "status = gdal.RasterizeLayer(\n",
    "    out_raster_ds,  # output to our new dataset\n",
    "    [1],  # output to our new dataset's first band\n",
    "    layer,  # rasterize this layer\n",
    "    None, None,  # don't worry about transformations since we're in same projection\n",
    "    [0],  # burn value 0\n",
    "    [\n",
    "        'ALL_TOUCHED=TRUE',  # rasterize all pixels touched by polygons\n",
    "        'ATTRIBUTE=id'  # put raster values according to the 'id' field values\n",
    "    ]\n",
    ")\n",
    "\n",
    "# Close dataset\n",
    "out_raster_ds = None\n",
    "\n",
    "if status != 0:\n",
    "    print(\"I don't think it worked...\")\n",
    "else:\n",
    "    print(\"Success\")"
   ]
  },
  {
   "cell_type": "markdown",
   "id": "b6030349",
   "metadata": {},
   "source": [
    "### Check rasterized layer"
   ]
  },
  {
   "cell_type": "code",
   "execution_count": 25,
   "id": "65d42537",
   "metadata": {},
   "outputs": [
    {
     "name": "stdout",
     "output_type": "stream",
     "text": [
      "Class 0 contains 61400 pixels\n",
      "Class 1 contains 583 pixels\n",
      "Class 2 contains 24 pixels\n",
      "Class 3 contains 223 pixels\n",
      "Class 4 contains 173 pixels\n",
      "Class 5 contains 97 pixels\n"
     ]
    }
   ],
   "source": [
    "# Import NumPy for some statistics\n",
    "import numpy as np\n",
    "\n",
    "roi_ds = gdal.Open('./example/training_data.gtif', gdal.GA_ReadOnly)\n",
    "\n",
    "roi = roi_ds.GetRasterBand(1).ReadAsArray()\n",
    "\n",
    "# How many pixels are in each class?\n",
    "classes = np.unique(roi)\n",
    "# Iterate over all class labels in the ROI image, printing out some information\n",
    "for c in classes:\n",
    "    print('Class {c} contains {n} pixels'.format(c=c, n=(roi == c).sum()))"
   ]
  },
  {
   "cell_type": "code",
   "execution_count": null,
   "id": "b70c2dc2",
   "metadata": {},
   "outputs": [],
   "source": []
  }
 ],
 "metadata": {
  "kernelspec": {
   "display_name": "myenvBs",
   "language": "python",
   "name": "myenvbs"
  },
  "language_info": {
   "codemirror_mode": {
    "name": "ipython",
    "version": 3
   },
   "file_extension": ".py",
   "mimetype": "text/x-python",
   "name": "python",
   "nbconvert_exporter": "python",
   "pygments_lexer": "ipython3",
   "version": "3.11.2"
  }
 },
 "nbformat": 4,
 "nbformat_minor": 5
}
